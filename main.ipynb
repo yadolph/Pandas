{
 "cells": [
  {
   "cell_type": "code",
   "execution_count": 1,
   "metadata": {},
   "outputs": [],
   "source": [
    "import pandas as pd"
   ]
  },
  {
   "cell_type": "code",
   "execution_count": 2,
   "metadata": {},
   "outputs": [],
   "source": [
    "path_to_names = 'names/yob*Y*.txt'"
   ]
  },
  {
   "cell_type": "code",
   "execution_count": 3,
   "metadata": {},
   "outputs": [],
   "source": [
    "def count_top3(year_list):\n",
    "    all_years_list = []\n",
    "    for year in year_list:\n",
    "        year_df = pd.read_csv(f'{path_to_names.replace(\"*Y*\", str(year))}', names = ['name','gender','quantity'])\n",
    "        all_years_list.append(year_df)\n",
    "        \n",
    "    all_years_df = pd.concat(all_years_list)\n",
    "    all_years_df = all_years_df.groupby(by = 'name').sum()\n",
    "    all_years_df = all_years_df.sort_values('quantity', ascending = False).head(3)\n",
    "        \n",
    "    top_names = list(all_years_df.index)\n",
    "    return top_names       "
   ]
  },
  {
   "cell_type": "code",
   "execution_count": 4,
   "metadata": {},
   "outputs": [
    {
     "name": "stdout",
     "output_type": "stream",
     "text": [
      "['James', 'John', 'Robert']\n"
     ]
    }
   ],
   "source": [
    "print(count_top3([1900, 1950, 2000]))"
   ]
  },
  {
   "cell_type": "code",
   "execution_count": 5,
   "metadata": {},
   "outputs": [],
   "source": [
    "def count_dynamics(year_list):\n",
    "    gender_dynamics = {'F':[], 'M':[]}\n",
    "    for year in year_list:\n",
    "        year_df = pd.read_csv(f'{path_to_names.replace(\"*Y*\", str(year))}', names = ['name','gender','quantity'])\n",
    "        year_df = year_df.groupby(by = 'gender').sum()\n",
    "        genders = list(year_df.index)\n",
    "        numbers = list(year_df['quantity'])\n",
    "        gender_dynamics[genders[0]].append(numbers[0])\n",
    "        gender_dynamics[genders[1]].append(numbers[1])\n",
    "    return gender_dynamics      "
   ]
  },
  {
   "cell_type": "code",
   "execution_count": 6,
   "metadata": {},
   "outputs": [
    {
     "data": {
      "text/plain": [
       "{'F': [299798, 1713065, 1815295], 'M': [150480, 1790437, 1963202]}"
      ]
     },
     "execution_count": 6,
     "metadata": {},
     "output_type": "execute_result"
    }
   ],
   "source": [
    "count_dynamics([1900, 1950, 2000])"
   ]
  },
  {
   "cell_type": "code",
   "execution_count": null,
   "metadata": {},
   "outputs": [],
   "source": []
  }
 ],
 "metadata": {
  "kernelspec": {
   "display_name": "Python 3",
   "language": "python",
   "name": "python3"
  },
  "language_info": {
   "codemirror_mode": {
    "name": "ipython",
    "version": 3
   },
   "file_extension": ".py",
   "mimetype": "text/x-python",
   "name": "python",
   "nbconvert_exporter": "python",
   "pygments_lexer": "ipython3",
   "version": "3.7.6"
  }
 },
 "nbformat": 4,
 "nbformat_minor": 4
}
